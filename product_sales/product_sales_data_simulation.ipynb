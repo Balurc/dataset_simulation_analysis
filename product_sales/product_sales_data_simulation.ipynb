{
 "cells": [
  {
   "cell_type": "code",
   "execution_count": 1,
   "id": "fa14713d-2311-4c21-b953-2cd3e67eeb58",
   "metadata": {},
   "outputs": [],
   "source": [
    "import pandas as pd\n",
    "import numpy as np"
   ]
  },
  {
   "cell_type": "code",
   "execution_count": 2,
   "id": "230fb519-8489-49e0-b78a-e8acc1ca08ee",
   "metadata": {},
   "outputs": [
    {
     "name": "stdout",
     "output_type": "stream",
     "text": [
      "Total rows: 3120\n",
      "Total columns: 10\n"
     ]
    },
    {
     "data": {
      "text/html": [
       "<div>\n",
       "<style scoped>\n",
       "    .dataframe tbody tr th:only-of-type {\n",
       "        vertical-align: middle;\n",
       "    }\n",
       "\n",
       "    .dataframe tbody tr th {\n",
       "        vertical-align: top;\n",
       "    }\n",
       "\n",
       "    .dataframe thead th {\n",
       "        text-align: right;\n",
       "    }\n",
       "</style>\n",
       "<table border=\"1\" class=\"dataframe\">\n",
       "  <thead>\n",
       "    <tr style=\"text-align: right;\">\n",
       "      <th></th>\n",
       "      <th>store_num</th>\n",
       "      <th>year</th>\n",
       "      <th>week</th>\n",
       "      <th>product1_sales</th>\n",
       "      <th>product2_sales</th>\n",
       "      <th>product1_price</th>\n",
       "      <th>product2_price</th>\n",
       "      <th>product1_promo</th>\n",
       "      <th>product2_promo</th>\n",
       "      <th>country</th>\n",
       "    </tr>\n",
       "  </thead>\n",
       "  <tbody>\n",
       "    <tr>\n",
       "      <th>0</th>\n",
       "      <td>0.0</td>\n",
       "      <td>0.0</td>\n",
       "      <td>0.0</td>\n",
       "      <td>0.0</td>\n",
       "      <td>0.0</td>\n",
       "      <td>0.0</td>\n",
       "      <td>0.0</td>\n",
       "      <td>0.0</td>\n",
       "      <td>0.0</td>\n",
       "      <td>0.0</td>\n",
       "    </tr>\n",
       "    <tr>\n",
       "      <th>1</th>\n",
       "      <td>0.0</td>\n",
       "      <td>0.0</td>\n",
       "      <td>0.0</td>\n",
       "      <td>0.0</td>\n",
       "      <td>0.0</td>\n",
       "      <td>0.0</td>\n",
       "      <td>0.0</td>\n",
       "      <td>0.0</td>\n",
       "      <td>0.0</td>\n",
       "      <td>0.0</td>\n",
       "    </tr>\n",
       "    <tr>\n",
       "      <th>2</th>\n",
       "      <td>0.0</td>\n",
       "      <td>0.0</td>\n",
       "      <td>0.0</td>\n",
       "      <td>0.0</td>\n",
       "      <td>0.0</td>\n",
       "      <td>0.0</td>\n",
       "      <td>0.0</td>\n",
       "      <td>0.0</td>\n",
       "      <td>0.0</td>\n",
       "      <td>0.0</td>\n",
       "    </tr>\n",
       "    <tr>\n",
       "      <th>3</th>\n",
       "      <td>0.0</td>\n",
       "      <td>0.0</td>\n",
       "      <td>0.0</td>\n",
       "      <td>0.0</td>\n",
       "      <td>0.0</td>\n",
       "      <td>0.0</td>\n",
       "      <td>0.0</td>\n",
       "      <td>0.0</td>\n",
       "      <td>0.0</td>\n",
       "      <td>0.0</td>\n",
       "    </tr>\n",
       "    <tr>\n",
       "      <th>4</th>\n",
       "      <td>0.0</td>\n",
       "      <td>0.0</td>\n",
       "      <td>0.0</td>\n",
       "      <td>0.0</td>\n",
       "      <td>0.0</td>\n",
       "      <td>0.0</td>\n",
       "      <td>0.0</td>\n",
       "      <td>0.0</td>\n",
       "      <td>0.0</td>\n",
       "      <td>0.0</td>\n",
       "    </tr>\n",
       "  </tbody>\n",
       "</table>\n",
       "</div>"
      ],
      "text/plain": [
       "   store_num  year  week  product1_sales  product2_sales  product1_price  \\\n",
       "0        0.0   0.0   0.0             0.0             0.0             0.0   \n",
       "1        0.0   0.0   0.0             0.0             0.0             0.0   \n",
       "2        0.0   0.0   0.0             0.0             0.0             0.0   \n",
       "3        0.0   0.0   0.0             0.0             0.0             0.0   \n",
       "4        0.0   0.0   0.0             0.0             0.0             0.0   \n",
       "\n",
       "   product2_price  product1_promo  product2_promo  country  \n",
       "0             0.0             0.0             0.0      0.0  \n",
       "1             0.0             0.0             0.0      0.0  \n",
       "2             0.0             0.0             0.0      0.0  \n",
       "3             0.0             0.0             0.0      0.0  \n",
       "4             0.0             0.0             0.0      0.0  "
      ]
     },
     "execution_count": 2,
     "metadata": {},
     "output_type": "execute_result"
    }
   ],
   "source": [
    "# constants\n",
    "N_STORES = 20\n",
    "N_WEEKS = 156\n",
    "\n",
    "# set the column names\n",
    "columns = (\"store_num\", \"year\", \"week\", \"product1_sales\", \"product2_sales\", \"product1_price\", \"product2_price\", \"product1_promo\", \"product2_promo\", \"country\")\n",
    "\n",
    "# create variables that store number of rows and columns\n",
    "n_rows = N_STORES * N_WEEKS\n",
    "n_cols = len(columns)\n",
    "\n",
    "# create an empty dataframe to hold the data using np.empty\n",
    "sales_df = pd.DataFrame(np.empty(shape=(n_rows, n_cols)), columns=columns)\n",
    "\n",
    "# check \n",
    "print(f\"Total rows: {sales_df.shape[0]}\\nTotal columns: {sales_df.shape[1]}\")\n",
    "sales_df.head()"
   ]
  },
  {
   "cell_type": "code",
   "execution_count": 3,
   "id": "842dd02d-984b-4479-818f-910a71bbbf17",
   "metadata": {},
   "outputs": [
    {
     "name": "stdout",
     "output_type": "stream",
     "text": [
      "{101: 'USA', 102: 'USA', 103: 'USA', 104: 'DEU', 105: 'DEU', 106: 'DEU', 107: 'DEU', 108: 'DEU', 109: 'GBR', 110: 'GBR', 111: 'GBR', 112: 'BRA', 113: 'BRA', 114: 'JPN', 115: 'JPN', 116: 'JPN', 117: 'JPN', 118: 'AUS', 119: 'CHN', 120: 'CHN'}\n"
     ]
    }
   ],
   "source": [
    "# create store numbers\n",
    "store_numbers = range(101, 101 + N_STORES)\n",
    "\n",
    "countries = ['USA', 'USA', 'USA', 'DEU', 'DEU', 'DEU',\n",
    "               'DEU', 'DEU', 'GBR', 'GBR', 'GBR', 'BRA',\n",
    "               'BRA', 'JPN', 'JPN', 'JPN', 'JPN', 'AUS',\n",
    "               'CHN', 'CHN']\n",
    "\n",
    "# map each store a country\n",
    "store_country = dict(zip(store_numbers, countries))\n",
    "print(store_country)           "
   ]
  },
  {
   "cell_type": "code",
   "execution_count": 4,
   "id": "62fb4646-20ae-4498-98b8-665673ce8e43",
   "metadata": {},
   "outputs": [],
   "source": [
    "# process store_num, year, week and country column\n",
    "i = 0\n",
    "for store_num in store_numbers:\n",
    "    for year in [1, 2, 3]:\n",
    "        for week in range(1, 53):\n",
    "            sales_df.loc[i, \"store_num\"] = store_num\n",
    "            sales_df.loc[i, \"year\"] = year\n",
    "            sales_df.loc[i, \"week\"] = week\n",
    "            sales_df.loc[i, \"country\"] = store_country[store_num]\n",
    "            i += 1"
   ]
  },
  {
   "cell_type": "code",
   "execution_count": 7,
   "id": "cb6f7f75",
   "metadata": {},
   "outputs": [
    {
     "data": {
      "text/plain": [
       "(3120, 10)"
      ]
     },
     "execution_count": 7,
     "metadata": {},
     "output_type": "execute_result"
    }
   ],
   "source": [
    "sales_df.shape"
   ]
  },
  {
   "cell_type": "code",
   "execution_count": 8,
   "id": "fa21e0f2-45c3-478b-81fb-f24ef04b6464",
   "metadata": {},
   "outputs": [],
   "source": [
    "# set seed number to generate replicable random data\n",
    "np.random.seed(143)\n",
    "\n",
    "# 10% promoted\n",
    "sales_df[\"product1_promo\"] = np.random.binomial(n=1, p=0.1, size=n_rows)\n",
    "\n",
    "# 15% promoted\n",
    "sales_df[\"product2_promo\"] = np.random.binomial(n=1, p=0.15, size=n_rows)"
   ]
  },
  {
   "cell_type": "code",
   "execution_count": 9,
   "id": "687e5796",
   "metadata": {},
   "outputs": [
    {
     "data": {
      "text/plain": [
       "0    2661\n",
       "1     459\n",
       "Name: product2_promo, dtype: int64"
      ]
     },
     "execution_count": 9,
     "metadata": {},
     "output_type": "execute_result"
    }
   ],
   "source": [
    "sales_df[\"product2_promo\"].value_counts()"
   ]
  },
  {
   "cell_type": "code",
   "execution_count": 10,
   "id": "7add1b73-2392-41c6-93e5-30e44e82d556",
   "metadata": {},
   "outputs": [],
   "source": [
    "# each product is sold at one of seven distinct price points ranging from $19.25 to $22.50\n",
    "price1 = [19.25, 19.75, 20.25, 20.75, 21.25, 21.75, 22.25]\n",
    "price2 = [19.50, 20, 20.50, 21, 21.50, 22, 22.50]\n",
    "\n",
    "# use sample with replacement to draw a price for each week\n",
    "sales_df[\"product1_price\"] = np.random.choice(price1, size=n_rows, replace=True)\n",
    "sales_df[\"product2_price\"] = np.random.choice(price2, size=n_rows, replace=True)"
   ]
  },
  {
   "cell_type": "code",
   "execution_count": 11,
   "id": "223fb21e-e14b-419a-9e78-59a09d1d522c",
   "metadata": {},
   "outputs": [
    {
     "data": {
      "text/html": [
       "<div>\n",
       "<style scoped>\n",
       "    .dataframe tbody tr th:only-of-type {\n",
       "        vertical-align: middle;\n",
       "    }\n",
       "\n",
       "    .dataframe tbody tr th {\n",
       "        vertical-align: top;\n",
       "    }\n",
       "\n",
       "    .dataframe thead th {\n",
       "        text-align: right;\n",
       "    }\n",
       "</style>\n",
       "<table border=\"1\" class=\"dataframe\">\n",
       "  <thead>\n",
       "    <tr style=\"text-align: right;\">\n",
       "      <th></th>\n",
       "      <th>store_num</th>\n",
       "      <th>year</th>\n",
       "      <th>week</th>\n",
       "      <th>product1_sales</th>\n",
       "      <th>product2_sales</th>\n",
       "      <th>product1_price</th>\n",
       "      <th>product2_price</th>\n",
       "      <th>product1_promo</th>\n",
       "      <th>product2_promo</th>\n",
       "      <th>country</th>\n",
       "    </tr>\n",
       "  </thead>\n",
       "  <tbody>\n",
       "    <tr>\n",
       "      <th>1090</th>\n",
       "      <td>107.0</td>\n",
       "      <td>3.0</td>\n",
       "      <td>51.0</td>\n",
       "      <td>0.0</td>\n",
       "      <td>0.0</td>\n",
       "      <td>19.75</td>\n",
       "      <td>20.5</td>\n",
       "      <td>0</td>\n",
       "      <td>0</td>\n",
       "      <td>DEU</td>\n",
       "    </tr>\n",
       "    <tr>\n",
       "      <th>1961</th>\n",
       "      <td>113.0</td>\n",
       "      <td>2.0</td>\n",
       "      <td>38.0</td>\n",
       "      <td>0.0</td>\n",
       "      <td>0.0</td>\n",
       "      <td>20.25</td>\n",
       "      <td>20.5</td>\n",
       "      <td>0</td>\n",
       "      <td>0</td>\n",
       "      <td>BRA</td>\n",
       "    </tr>\n",
       "    <tr>\n",
       "      <th>1677</th>\n",
       "      <td>111.0</td>\n",
       "      <td>3.0</td>\n",
       "      <td>14.0</td>\n",
       "      <td>0.0</td>\n",
       "      <td>0.0</td>\n",
       "      <td>19.25</td>\n",
       "      <td>20.5</td>\n",
       "      <td>0</td>\n",
       "      <td>0</td>\n",
       "      <td>GBR</td>\n",
       "    </tr>\n",
       "    <tr>\n",
       "      <th>975</th>\n",
       "      <td>107.0</td>\n",
       "      <td>1.0</td>\n",
       "      <td>40.0</td>\n",
       "      <td>0.0</td>\n",
       "      <td>0.0</td>\n",
       "      <td>21.25</td>\n",
       "      <td>21.0</td>\n",
       "      <td>0</td>\n",
       "      <td>0</td>\n",
       "      <td>DEU</td>\n",
       "    </tr>\n",
       "    <tr>\n",
       "      <th>3092</th>\n",
       "      <td>120.0</td>\n",
       "      <td>3.0</td>\n",
       "      <td>25.0</td>\n",
       "      <td>0.0</td>\n",
       "      <td>0.0</td>\n",
       "      <td>20.25</td>\n",
       "      <td>20.5</td>\n",
       "      <td>0</td>\n",
       "      <td>0</td>\n",
       "      <td>CHN</td>\n",
       "    </tr>\n",
       "  </tbody>\n",
       "</table>\n",
       "</div>"
      ],
      "text/plain": [
       "      store_num  year  week  product1_sales  product2_sales  product1_price  \\\n",
       "1090      107.0   3.0  51.0             0.0             0.0           19.75   \n",
       "1961      113.0   2.0  38.0             0.0             0.0           20.25   \n",
       "1677      111.0   3.0  14.0             0.0             0.0           19.25   \n",
       "975       107.0   1.0  40.0             0.0             0.0           21.25   \n",
       "3092      120.0   3.0  25.0             0.0             0.0           20.25   \n",
       "\n",
       "      product2_price  product1_promo  product2_promo country  \n",
       "1090            20.5               0               0     DEU  \n",
       "1961            20.5               0               0     BRA  \n",
       "1677            20.5               0               0     GBR  \n",
       "975             21.0               0               0     DEU  \n",
       "3092            20.5               0               0     CHN  "
      ]
     },
     "execution_count": 11,
     "metadata": {},
     "output_type": "execute_result"
    }
   ],
   "source": [
    "sales_df.sample(5)"
   ]
  },
  {
   "cell_type": "code",
   "execution_count": 12,
   "id": "272dd44f-4141-4cd1-ba35-bf863bd3f6e3",
   "metadata": {},
   "outputs": [],
   "source": [
    "# use poisson distribution to simulate sales in units, set product 1 lambda higher than product 2\n",
    "sales_product1 = np.random.poisson(lam=120, size=n_rows)\n",
    "sales_product2 = np.random.poisson(lam=100, size=n_rows)"
   ]
  },
  {
   "cell_type": "code",
   "execution_count": 13,
   "id": "83cc89bc-5a1a-4004-9848-59b8e1663a59",
   "metadata": {},
   "outputs": [],
   "source": [
    "# scale the sales units up or down according to the relative prices.\n",
    "# price effects often follow a logarithmic function rather than a linear function, so use np.log(price)\n",
    "log_product1_price = np.log(sales_df[\"product1_price\"])\n",
    "log_product2_price = np.log(sales_df[\"product2_price\"])"
   ]
  },
  {
   "cell_type": "code",
   "execution_count": 14,
   "id": "b2210ad5-705b-45ef-acfb-efb5b1e5df8d",
   "metadata": {},
   "outputs": [],
   "source": [
    "# assume that sales vary as the inverse ratio of prices\n",
    "# sales of Product 1 go up to the degree that the log(price) of Product 1 is lower than the log(price) of Product 2\n",
    "sales_product1 = sales_product1 * log_product2_price/log_product1_price\n",
    "sales_product2 = sales_product2 * log_product1_price/log_product2_price"
   ]
  },
  {
   "cell_type": "code",
   "execution_count": 15,
   "id": "581dfc27-d5ab-46e6-b133-b49609aeeb05",
   "metadata": {},
   "outputs": [],
   "source": [
    "# sales get a 30 or 40% lift when each product is promoted in store\n",
    "# the floor() function to drop fractional values & ensure integer counts for weekly unit sales\n",
    "sales_df[\"product1_sales\"] = np.floor(sales_product1 * (1 + (sales_df[\"product1_promo\"] * 0.3)))\n",
    "sales_df[\"product2_sales\"] = np.floor(sales_product2 * (1 + (sales_df[\"product2_promo\"] * 0.4)))"
   ]
  },
  {
   "cell_type": "code",
   "execution_count": 16,
   "id": "b06e1351",
   "metadata": {},
   "outputs": [
    {
     "data": {
      "text/html": [
       "<div>\n",
       "<style scoped>\n",
       "    .dataframe tbody tr th:only-of-type {\n",
       "        vertical-align: middle;\n",
       "    }\n",
       "\n",
       "    .dataframe tbody tr th {\n",
       "        vertical-align: top;\n",
       "    }\n",
       "\n",
       "    .dataframe thead th {\n",
       "        text-align: right;\n",
       "    }\n",
       "</style>\n",
       "<table border=\"1\" class=\"dataframe\">\n",
       "  <thead>\n",
       "    <tr style=\"text-align: right;\">\n",
       "      <th></th>\n",
       "      <th>store_num</th>\n",
       "      <th>year</th>\n",
       "      <th>week</th>\n",
       "      <th>product1_sales</th>\n",
       "      <th>product2_sales</th>\n",
       "      <th>product1_price</th>\n",
       "      <th>product2_price</th>\n",
       "      <th>product1_promo</th>\n",
       "      <th>product2_promo</th>\n",
       "      <th>country</th>\n",
       "    </tr>\n",
       "  </thead>\n",
       "  <tbody>\n",
       "    <tr>\n",
       "      <th>459</th>\n",
       "      <td>103.0</td>\n",
       "      <td>3.0</td>\n",
       "      <td>44.0</td>\n",
       "      <td>181.0</td>\n",
       "      <td>90.0</td>\n",
       "      <td>21.25</td>\n",
       "      <td>21.5</td>\n",
       "      <td>1</td>\n",
       "      <td>0</td>\n",
       "      <td>USA</td>\n",
       "    </tr>\n",
       "    <tr>\n",
       "      <th>1826</th>\n",
       "      <td>112.0</td>\n",
       "      <td>3.0</td>\n",
       "      <td>7.0</td>\n",
       "      <td>110.0</td>\n",
       "      <td>102.0</td>\n",
       "      <td>20.25</td>\n",
       "      <td>22.0</td>\n",
       "      <td>0</td>\n",
       "      <td>0</td>\n",
       "      <td>BRA</td>\n",
       "    </tr>\n",
       "    <tr>\n",
       "      <th>677</th>\n",
       "      <td>105.0</td>\n",
       "      <td>2.0</td>\n",
       "      <td>2.0</td>\n",
       "      <td>154.0</td>\n",
       "      <td>89.0</td>\n",
       "      <td>20.75</td>\n",
       "      <td>19.5</td>\n",
       "      <td>1</td>\n",
       "      <td>0</td>\n",
       "      <td>DEU</td>\n",
       "    </tr>\n",
       "    <tr>\n",
       "      <th>1207</th>\n",
       "      <td>108.0</td>\n",
       "      <td>3.0</td>\n",
       "      <td>12.0</td>\n",
       "      <td>121.0</td>\n",
       "      <td>104.0</td>\n",
       "      <td>20.75</td>\n",
       "      <td>20.0</td>\n",
       "      <td>0</td>\n",
       "      <td>0</td>\n",
       "      <td>DEU</td>\n",
       "    </tr>\n",
       "    <tr>\n",
       "      <th>2583</th>\n",
       "      <td>117.0</td>\n",
       "      <td>2.0</td>\n",
       "      <td>36.0</td>\n",
       "      <td>144.0</td>\n",
       "      <td>92.0</td>\n",
       "      <td>20.25</td>\n",
       "      <td>21.5</td>\n",
       "      <td>0</td>\n",
       "      <td>0</td>\n",
       "      <td>JPN</td>\n",
       "    </tr>\n",
       "  </tbody>\n",
       "</table>\n",
       "</div>"
      ],
      "text/plain": [
       "      store_num  year  week  product1_sales  product2_sales  product1_price  \\\n",
       "459       103.0   3.0  44.0           181.0            90.0           21.25   \n",
       "1826      112.0   3.0   7.0           110.0           102.0           20.25   \n",
       "677       105.0   2.0   2.0           154.0            89.0           20.75   \n",
       "1207      108.0   3.0  12.0           121.0           104.0           20.75   \n",
       "2583      117.0   2.0  36.0           144.0            92.0           20.25   \n",
       "\n",
       "      product2_price  product1_promo  product2_promo country  \n",
       "459             21.5               1               0     USA  \n",
       "1826            22.0               0               0     BRA  \n",
       "677             19.5               1               0     DEU  \n",
       "1207            20.0               0               0     DEU  \n",
       "2583            21.5               0               0     JPN  "
      ]
     },
     "execution_count": 16,
     "metadata": {},
     "output_type": "execute_result"
    }
   ],
   "source": [
    "sales_df.sample(5)"
   ]
  },
  {
   "cell_type": "code",
   "execution_count": 17,
   "id": "23a3f416",
   "metadata": {},
   "outputs": [
    {
     "data": {
      "text/plain": [
       "store_num         float64\n",
       "year              float64\n",
       "week              float64\n",
       "product1_sales    float64\n",
       "product2_sales    float64\n",
       "product1_price    float64\n",
       "product2_price    float64\n",
       "product1_promo      int64\n",
       "product2_promo      int64\n",
       "country            object\n",
       "dtype: object"
      ]
     },
     "execution_count": 17,
     "metadata": {},
     "output_type": "execute_result"
    }
   ],
   "source": [
    "sales_df.dtypes"
   ]
  },
  {
   "cell_type": "code",
   "execution_count": 18,
   "id": "8f20bc1a",
   "metadata": {},
   "outputs": [],
   "source": [
    "# convert store_num and country data types to categorical\n",
    "sales_df[\"store_num\"] = sales_df[\"store_num\"].astype(pd.CategoricalDtype())\n",
    "sales_df[\"country\"] = sales_df[\"country\"].astype(pd.CategoricalDtype())"
   ]
  },
  {
   "cell_type": "code",
   "execution_count": 19,
   "id": "9ad6de80",
   "metadata": {},
   "outputs": [
    {
     "data": {
      "text/plain": [
       "store_num         category\n",
       "year               float64\n",
       "week               float64\n",
       "product1_sales     float64\n",
       "product2_sales     float64\n",
       "product1_price     float64\n",
       "product2_price     float64\n",
       "product1_promo       int64\n",
       "product2_promo       int64\n",
       "country           category\n",
       "dtype: object"
      ]
     },
     "execution_count": 19,
     "metadata": {},
     "output_type": "execute_result"
    }
   ],
   "source": [
    "sales_df.dtypes"
   ]
  },
  {
   "cell_type": "code",
   "execution_count": 20,
   "id": "ff0c70bf",
   "metadata": {},
   "outputs": [
    {
     "data": {
      "text/html": [
       "<div>\n",
       "<style scoped>\n",
       "    .dataframe tbody tr th:only-of-type {\n",
       "        vertical-align: middle;\n",
       "    }\n",
       "\n",
       "    .dataframe tbody tr th {\n",
       "        vertical-align: top;\n",
       "    }\n",
       "\n",
       "    .dataframe thead th {\n",
       "        text-align: right;\n",
       "    }\n",
       "</style>\n",
       "<table border=\"1\" class=\"dataframe\">\n",
       "  <thead>\n",
       "    <tr style=\"text-align: right;\">\n",
       "      <th></th>\n",
       "      <th>store_num</th>\n",
       "      <th>year</th>\n",
       "      <th>week</th>\n",
       "      <th>product1_sales</th>\n",
       "      <th>product2_sales</th>\n",
       "      <th>product1_price</th>\n",
       "      <th>product2_price</th>\n",
       "      <th>product1_promo</th>\n",
       "      <th>product2_promo</th>\n",
       "      <th>country</th>\n",
       "    </tr>\n",
       "  </thead>\n",
       "  <tbody>\n",
       "    <tr>\n",
       "      <th>1562</th>\n",
       "      <td>111.0</td>\n",
       "      <td>1.0</td>\n",
       "      <td>3.0</td>\n",
       "      <td>121.0</td>\n",
       "      <td>107.0</td>\n",
       "      <td>21.75</td>\n",
       "      <td>20.0</td>\n",
       "      <td>0</td>\n",
       "      <td>0</td>\n",
       "      <td>GBR</td>\n",
       "    </tr>\n",
       "    <tr>\n",
       "      <th>1193</th>\n",
       "      <td>108.0</td>\n",
       "      <td>2.0</td>\n",
       "      <td>50.0</td>\n",
       "      <td>118.0</td>\n",
       "      <td>108.0</td>\n",
       "      <td>20.75</td>\n",
       "      <td>21.0</td>\n",
       "      <td>0</td>\n",
       "      <td>0</td>\n",
       "      <td>DEU</td>\n",
       "    </tr>\n",
       "    <tr>\n",
       "      <th>2918</th>\n",
       "      <td>119.0</td>\n",
       "      <td>3.0</td>\n",
       "      <td>7.0</td>\n",
       "      <td>116.0</td>\n",
       "      <td>99.0</td>\n",
       "      <td>21.75</td>\n",
       "      <td>21.0</td>\n",
       "      <td>0</td>\n",
       "      <td>0</td>\n",
       "      <td>CHN</td>\n",
       "    </tr>\n",
       "    <tr>\n",
       "      <th>1775</th>\n",
       "      <td>112.0</td>\n",
       "      <td>2.0</td>\n",
       "      <td>8.0</td>\n",
       "      <td>111.0</td>\n",
       "      <td>85.0</td>\n",
       "      <td>21.75</td>\n",
       "      <td>20.5</td>\n",
       "      <td>0</td>\n",
       "      <td>0</td>\n",
       "      <td>BRA</td>\n",
       "    </tr>\n",
       "    <tr>\n",
       "      <th>476</th>\n",
       "      <td>104.0</td>\n",
       "      <td>1.0</td>\n",
       "      <td>9.0</td>\n",
       "      <td>135.0</td>\n",
       "      <td>97.0</td>\n",
       "      <td>19.25</td>\n",
       "      <td>19.5</td>\n",
       "      <td>0</td>\n",
       "      <td>0</td>\n",
       "      <td>DEU</td>\n",
       "    </tr>\n",
       "  </tbody>\n",
       "</table>\n",
       "</div>"
      ],
      "text/plain": [
       "     store_num  year  week  product1_sales  product2_sales  product1_price  \\\n",
       "1562     111.0   1.0   3.0           121.0           107.0           21.75   \n",
       "1193     108.0   2.0  50.0           118.0           108.0           20.75   \n",
       "2918     119.0   3.0   7.0           116.0            99.0           21.75   \n",
       "1775     112.0   2.0   8.0           111.0            85.0           21.75   \n",
       "476      104.0   1.0   9.0           135.0            97.0           19.25   \n",
       "\n",
       "      product2_price  product1_promo  product2_promo country  \n",
       "1562            20.0               0               0     GBR  \n",
       "1193            21.0               0               0     DEU  \n",
       "2918            21.0               0               0     CHN  \n",
       "1775            20.5               0               0     BRA  \n",
       "476             19.5               0               0     DEU  "
      ]
     },
     "execution_count": 20,
     "metadata": {},
     "output_type": "execute_result"
    }
   ],
   "source": [
    "sales_df.sample(5)"
   ]
  },
  {
   "cell_type": "code",
   "execution_count": null,
   "id": "50d0141d-f104-4619-81e9-8907aad7cf3f",
   "metadata": {},
   "outputs": [],
   "source": []
  }
 ],
 "metadata": {
  "kernelspec": {
   "display_name": "Python 3.7.6",
   "language": "python",
   "name": "python3"
  },
  "language_info": {
   "codemirror_mode": {
    "name": "ipython",
    "version": 3
   },
   "file_extension": ".py",
   "mimetype": "text/x-python",
   "name": "python",
   "nbconvert_exporter": "python",
   "pygments_lexer": "ipython3",
   "version": "3.7.6"
  },
  "vscode": {
   "interpreter": {
    "hash": "40d3a090f54c6569ab1632332b64b2c03c39dcf918b08424e98f38b5ae0af88f"
   }
  }
 },
 "nbformat": 4,
 "nbformat_minor": 5
}
